{
 "cells": [
  {
   "cell_type": "code",
   "execution_count": 2,
   "id": "03e58e24-c2f7-4091-ba9d-8721cf578802",
   "metadata": {},
   "outputs": [],
   "source": [
    "import requests\n",
    "from bs4 import BeautifulSoup\n",
    "import pandas as pd\n",
    "import re"
   ]
  },
  {
   "cell_type": "code",
   "execution_count": 3,
   "id": "5204c5e1-ffe4-4c4a-a8b4-24cc6b3fa5d3",
   "metadata": {},
   "outputs": [],
   "source": [
    "url = \"https://en.wikipedia.org/wiki/List_of_language_families\"\n",
    "response = requests.get(url)"
   ]
  },
  {
   "cell_type": "code",
   "execution_count": 4,
   "id": "0bda3b93-e4d8-4fed-a28b-534047f6185d",
   "metadata": {},
   "outputs": [
    {
     "name": "stdout",
     "output_type": "stream",
     "text": [
      "HTML content successfully received and stored\n",
      "Page title: List of language families - Wikipedia\n"
     ]
    }
   ],
   "source": [
    "if response.status_code == 200:\n",
    "    soup = BeautifulSoup(response.content, 'html.parser')\n",
    "    print(\"HTML content successfully received and stored\")\n",
    "    print(f\"Page title: {soup.title.string}\")\n",
    "else:\n",
    "    print(f\"Failed to retrieve the webpage. Status code: {response.status_code}\")"
   ]
  },
  {
   "cell_type": "code",
   "execution_count": 5,
   "id": "784e054d-0673-442b-8ebf-ee5afee7950f",
   "metadata": {},
   "outputs": [],
   "source": [
    "table = soup.table\n",
    "table_headers = table.find_all(\"th\")\n",
    "table_rows = table.find_all(\"tr\")"
   ]
  },
  {
   "cell_type": "code",
   "execution_count": 6,
   "id": "0d900fbe-2b67-44a3-a3aa-503b27900e1f",
   "metadata": {},
   "outputs": [],
   "source": [
    "headers = [re.sub(r'\\[\\d+\\]', '', header.text.strip()) for header in table_headers]"
   ]
  },
  {
   "cell_type": "code",
   "execution_count": 7,
   "id": "282ede48-78a8-4c63-8ab4-ea09f9f980d3",
   "metadata": {},
   "outputs": [],
   "source": [
    "rows = []\n",
    "start_index = 1\n",
    "\n",
    "for row in table_rows[start_index:]:\n",
    "    cells = row.find_all(['td', 'th'])\n",
    "    if cells:\n",
    "        row_data = [re.sub(r'\\[\\d+\\]', '', cell.text.strip()) for cell in cells]\n",
    "        rows.append(row_data)"
   ]
  },
  {
   "cell_type": "code",
   "execution_count": 8,
   "id": "eac7f7fa-08d5-45b3-9e4a-ab8cd7818eda",
   "metadata": {},
   "outputs": [],
   "source": [
    "df = pd.DataFrame(rows, columns=headers)"
   ]
  },
  {
   "cell_type": "code",
   "execution_count": 9,
   "id": "26e75098-6fe2-49ad-bf64-3bf279c75411",
   "metadata": {},
   "outputs": [
    {
     "data": {
      "text/html": [
       "<div>\n",
       "<style scoped>\n",
       "    .dataframe tbody tr th:only-of-type {\n",
       "        vertical-align: middle;\n",
       "    }\n",
       "\n",
       "    .dataframe tbody tr th {\n",
       "        vertical-align: top;\n",
       "    }\n",
       "\n",
       "    .dataframe thead th {\n",
       "        text-align: right;\n",
       "    }\n",
       "</style>\n",
       "<table border=\"1\" class=\"dataframe\">\n",
       "  <thead>\n",
       "    <tr style=\"text-align: right;\">\n",
       "      <th></th>\n",
       "      <th>Family</th>\n",
       "      <th>Languages</th>\n",
       "      <th>Current speakers</th>\n",
       "      <th>Location</th>\n",
       "      <th>Proposed parent family</th>\n",
       "    </tr>\n",
       "  </thead>\n",
       "  <tbody>\n",
       "    <tr>\n",
       "      <th>0</th>\n",
       "      <td>Afroasiatic</td>\n",
       "      <td>381</td>\n",
       "      <td>499,294,669</td>\n",
       "      <td>Africa, Eurasia</td>\n",
       "      <td></td>\n",
       "    </tr>\n",
       "    <tr>\n",
       "      <th>1</th>\n",
       "      <td>Aroid</td>\n",
       "      <td>5</td>\n",
       "      <td>438,100</td>\n",
       "      <td>Africa</td>\n",
       "      <td>Afroasiatic</td>\n",
       "    </tr>\n",
       "    <tr>\n",
       "      <th>2</th>\n",
       "      <td>Atlantic–Congo</td>\n",
       "      <td>1,410</td>\n",
       "      <td>500,000,000</td>\n",
       "      <td>Africa</td>\n",
       "      <td>Niger–Congo</td>\n",
       "    </tr>\n",
       "    <tr>\n",
       "      <th>3</th>\n",
       "      <td>Berta</td>\n",
       "      <td>6</td>\n",
       "      <td>380,000</td>\n",
       "      <td>Africa</td>\n",
       "      <td>Nilo-Saharan</td>\n",
       "    </tr>\n",
       "    <tr>\n",
       "      <th>4</th>\n",
       "      <td>Central Sudanic</td>\n",
       "      <td>63</td>\n",
       "      <td>9,145,280</td>\n",
       "      <td>Africa</td>\n",
       "      <td>Nilo-Saharan</td>\n",
       "    </tr>\n",
       "  </tbody>\n",
       "</table>\n",
       "</div>"
      ],
      "text/plain": [
       "            Family Languages Current speakers         Location  \\\n",
       "0      Afroasiatic       381      499,294,669  Africa, Eurasia   \n",
       "1            Aroid         5          438,100           Africa   \n",
       "2   Atlantic–Congo     1,410      500,000,000           Africa   \n",
       "3            Berta         6          380,000           Africa   \n",
       "4  Central Sudanic        63        9,145,280           Africa   \n",
       "\n",
       "  Proposed parent family  \n",
       "0                         \n",
       "1            Afroasiatic  \n",
       "2            Niger–Congo  \n",
       "3           Nilo-Saharan  \n",
       "4           Nilo-Saharan  "
      ]
     },
     "execution_count": 9,
     "metadata": {},
     "output_type": "execute_result"
    }
   ],
   "source": [
    "df.head()"
   ]
  },
  {
   "cell_type": "code",
   "execution_count": null,
   "id": "7dc24f53-403d-481d-b644-bef5c4f18311",
   "metadata": {},
   "outputs": [],
   "source": []
  }
 ],
 "metadata": {
  "kernelspec": {
   "display_name": "Python [conda env:base] *",
   "language": "python",
   "name": "conda-base-py"
  },
  "language_info": {
   "codemirror_mode": {
    "name": "ipython",
    "version": 3
   },
   "file_extension": ".py",
   "mimetype": "text/x-python",
   "name": "python",
   "nbconvert_exporter": "python",
   "pygments_lexer": "ipython3",
   "version": "3.12.7"
  }
 },
 "nbformat": 4,
 "nbformat_minor": 5
}
